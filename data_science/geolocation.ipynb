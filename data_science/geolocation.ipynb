{
 "cells": [
  {
   "cell_type": "markdown",
   "metadata": {},
   "source": [
    "The aim of this notebook is to act as a proof of concept. I want to examine the IP addresses that Canvas records and see if I can accurately geolocate them. Ideally, I'd be able to cross reference location based course activity with final grade and examine any effect on outcome."
   ]
  },
  {
   "cell_type": "markdown",
   "metadata": {},
   "source": [
    "Let's start with some sample IP addresses I've pulled from the API."
   ]
  },
  {
   "cell_type": "code",
   "execution_count": 37,
   "metadata": {
    "collapsed": false
   },
   "outputs": [
    {
     "name": "stdout",
     "output_type": "stream",
     "text": [
      "Empty DataFrame\n",
      "Columns: [A, B]\n",
      "Index: []\n"
     ]
    }
   ],
   "source": [
    "import pandas as pd\n",
    "import numpy as np\n",
    "\n",
    "user1 = [u'132.170.63.104', u'132.170.58.147', u'132.170.58.147',\n",
    "         u'132.170.58.147', u'132.170.58.147', u'132.170.58.147', \n",
    "         u'132.170.58.147', u'132.170.58.147', u'132.170.58.147',\n",
    "         u'132.170.58.147']\n",
    "\n",
    "user2 = [u'167.187.101.240', u'167.187.101.240', u'167.187.101.240',\n",
    "         u'167.187.101.240', u'167.187.101.240', u'167.187.101.240', \n",
    "         u'167.187.101.240', u'167.187.101.240', u'167.187.101.240', \n",
    "         u'167.187.101.240']\n",
    "\n",
    "d = {'user 1': user1, 'user2': user2}\n",
    "\n",
    "df = pd.DataFrame(d, columns=list(['A', 'B']))\n",
    "print df"
   ]
  },
  {
   "cell_type": "code",
   "execution_count": 7,
   "metadata": {
    "collapsed": false
   },
   "outputs": [],
   "source": [
    "user1 = [u'132.170.63.104', u'132.170.58.147', u'132.170.58.147',\n",
    "         u'132.170.58.147', u'132.170.58.147', u'132.170.58.147', \n",
    "         u'132.170.58.147', u'132.170.58.147', u'132.170.58.147',\n",
    "         u'132.170.58.147']"
   ]
  },
  {
   "cell_type": "code",
   "execution_count": 8,
   "metadata": {
    "collapsed": false
   },
   "outputs": [],
   "source": [
    "user2 = [u'167.187.101.240', u'167.187.101.240', u'167.187.101.240',\n",
    "         u'167.187.101.240', u'167.187.101.240', u'167.187.101.240', \n",
    "         u'167.187.101.240', u'167.187.101.240', u'167.187.101.240', \n",
    "         u'167.187.101.240']"
   ]
  },
  {
   "cell_type": "code",
   "execution_count": 9,
   "metadata": {
    "collapsed": false
   },
   "outputs": [],
   "source": [
    "user3 = [u'167.187.101.240', u'167.187.101.240', u'167.187.101.240', \n",
    "         u'167.187.101.240', u'167.187.101.240', u'167.187.101.240', \n",
    "         u'167.187.101.240', u'167.187.101.240', u'167.187.101.240', \n",
    "         u'167.187.101.240']"
   ]
  },
  {
   "cell_type": "code",
   "execution_count": 11,
   "metadata": {
    "collapsed": false
   },
   "outputs": [],
   "source": [
    "user4 = [u'75.112.133.131', u'75.112.133.131', u'75.112.133.131',\n",
    "         u'75.112.133.131', u'75.112.133.131', u'75.112.133.131',\n",
    "         u'75.112.133.131', u'75.112.133.131', u'75.112.133.131',\n",
    "         u'75.112.133.131']"
   ]
  },
  {
   "cell_type": "markdown",
   "metadata": {},
   "source": [
    "We're going to use a free geolocation by IP service.\n",
    "\n",
    "freegeoip.net/{format}/{IP_or_hostname}"
   ]
  },
  {
   "cell_type": "code",
   "execution_count": 14,
   "metadata": {
    "collapsed": false
   },
   "outputs": [],
   "source": [
    "%matplotlib inline"
   ]
  },
  {
   "cell_type": "code",
   "execution_count": 17,
   "metadata": {
    "collapsed": false
   },
   "outputs": [],
   "source": [
    "import requests\n",
    "\n",
    "locateurl = 'http://freegeoip.net/json/'"
   ]
  },
  {
   "cell_type": "code",
   "execution_count": null,
   "metadata": {
    "collapsed": true
   },
   "outputs": [],
   "source": []
  }
 ],
 "metadata": {
  "kernelspec": {
   "display_name": "Python 2",
   "language": "python",
   "name": "python2"
  },
  "language_info": {
   "codemirror_mode": {
    "name": "ipython",
    "version": 2
   },
   "file_extension": ".py",
   "mimetype": "text/x-python",
   "name": "python",
   "nbconvert_exporter": "python",
   "pygments_lexer": "ipython2",
   "version": "2.7.10"
  }
 },
 "nbformat": 4,
 "nbformat_minor": 0
}
